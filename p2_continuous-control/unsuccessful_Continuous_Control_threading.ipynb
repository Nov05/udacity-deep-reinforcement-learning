{
 "cells": [
  {
   "cell_type": "markdown",
   "metadata": {},
   "source": [
    "# Continuous Control\n",
    "\n",
    "---\n",
    "\n",
    "In this notebook, you will learn how to use the Unity ML-Agents environment for the second project of the [Deep Reinforcement Learning Nanodegree](https://www.udacity.com/course/deep-reinforcement-learning-nanodegree--nd893) program."
   ]
  },
  {
   "cell_type": "code",
   "execution_count": 1,
   "metadata": {},
   "outputs": [
    {
     "name": "stdout",
     "output_type": "stream",
     "text": [
      "D:\\github\\udacity-deep-reinforcement-learning\\python\n"
     ]
    }
   ],
   "source": [
    "%cd ../python\n",
    "from unityagents import UnityEnvironment\n",
    "import numpy as np"
   ]
  },
  {
   "cell_type": "code",
   "execution_count": 5,
   "metadata": {},
   "outputs": [],
   "source": [
    "def test(env):\n",
    "    brain_name = env.brain_names[0]\n",
    "    env_info = env.reset(train_mode=False)[brain_name]     # reset the environment    \n",
    "    states = env_info.vector_observations                  # get the current state (for each agent)\n",
    "    scores = np.zeros(num_agents)                          # initialize the score (for each agent)\n",
    "    while True:\n",
    "        actions = np.random.randn(num_agents, action_size) # select an action (for each agent)\n",
    "        actions = np.clip(actions, -1, 1)                  # all actions between -1 and 1\n",
    "        env_info = env.step(actions)[brain_name]           # send all actions to tne environment\n",
    "        next_states = env_info.vector_observations         # get next state (for each agent)\n",
    "        rewards = env_info.rewards                         # get reward (for each agent)\n",
    "        dones = env_info.local_done                        # see if episode finished\n",
    "        scores += env_info.rewards                         # update the score (for each agent)\n",
    "        states = next_states                               # roll over states to next time step\n",
    "        if np.any(dones):                                  # exit loop if episode finished\n",
    "            break\n",
    "    print('Total score (averaged over agents) this episode: {}'.format(np.mean(scores)))\n",
    "    env.close()"
   ]
  },
  {
   "cell_type": "code",
   "execution_count": 6,
   "metadata": {},
   "outputs": [
    {
     "name": "stderr",
     "output_type": "stream",
     "text": [
      "Exception in thread Thread-7:\n",
      "Traceback (most recent call last):\n",
      "  File \"D:\\Users\\guido\\miniconda3\\envs\\drlnd\\lib\\threading.py\", line 916, in _bootstrap_inner\n",
      "    self.run()\n",
      "  File \"D:\\Users\\guido\\miniconda3\\envs\\drlnd\\lib\\threading.py\", line 864, in run\n",
      "    self._target(*self._args, **self._kwargs)\n",
      "  File \"<ipython-input-6-78be8763f0c8>\", line 6, in exe2\n",
      "    env = UnityEnvironment(file_name='../data/Reacher_Windows_x86_64_21/Reacher.exe')\n",
      "  File \"D:\\github\\udacity-deep-reinforcement-learning\\python\\unityagents\\environment.py\", line 55, in __init__\n",
      "    self.executable_launcher(file_name, docker_training, no_graphics)\n",
      "  File \"D:\\github\\udacity-deep-reinforcement-learning\\python\\unityagents\\environment.py\", line 184, in executable_launcher\n",
      "    .format(true_filename))\n",
      "unityagents.exception.UnityEnvironmentException: Couldn't launch the Reacher environment. Provided filename does not match any environments.\n",
      "\n",
      "INFO:unityagents:\n",
      "'Academy' started successfully!\n",
      "Unity Academy name: Academy\n",
      "        Number of Brains: 1\n",
      "        Number of External Brains : 1\n",
      "        Lesson number : 0\n",
      "        Reset Parameters :\n",
      "\t\tgoal_size -> 5.0\n",
      "\t\tgoal_speed -> 1.0\n",
      "Unity brain name: ReacherBrain\n",
      "        Number of Visual Observations (per agent): 0\n",
      "        Vector Observation space type: continuous\n",
      "        Vector Observation space size (per agent): 33\n",
      "        Number of stacked Vector Observation: 1\n",
      "        Vector Action space type: continuous\n",
      "        Vector Action space size (per agent): 4\n",
      "        Vector Action descriptions: , , , \n"
     ]
    },
    {
     "name": "stdout",
     "output_type": "stream",
     "text": [
      "Done!\n"
     ]
    },
    {
     "name": "stderr",
     "output_type": "stream",
     "text": [
      "Exception in thread Thread-6:\n",
      "Traceback (most recent call last):\n",
      "  File \"D:\\Users\\guido\\miniconda3\\envs\\drlnd\\lib\\threading.py\", line 916, in _bootstrap_inner\n",
      "    self.run()\n",
      "  File \"D:\\Users\\guido\\miniconda3\\envs\\drlnd\\lib\\threading.py\", line 864, in run\n",
      "    self._target(*self._args, **self._kwargs)\n",
      "  File \"<ipython-input-6-78be8763f0c8>\", line 4, in exe1\n",
      "    test(env)\n",
      "  File \"<ipython-input-5-60ac1b4f326a>\", line 2, in test\n",
      "    env_info = env.reset(train_mode=False)[brain_name]     # reset the environment\n",
      "NameError: name 'brain_name' is not defined\n",
      "\n"
     ]
    }
   ],
   "source": [
    "import threading\n",
    "def exe1():\n",
    "    env = UnityEnvironment(file_name='../data/Reacher_Windows_x86_64_20/Reacher.exe')\n",
    "    test(env)\n",
    "def exe2():\n",
    "    env = UnityEnvironment(file_name='../data/Reacher_Windows_x86_64_21/Reacher.exe')\n",
    "    test(env)\n",
    "t1 = threading.Thread(target=exe1, args=()) \n",
    "t2 = threading.Thread(target=exe2, args=())     \n",
    "t1.start(); t2.start()\n",
    "t1.join(); t2.join()\n",
    "print(\"Done!\")"
   ]
  },
  {
   "cell_type": "code",
   "execution_count": null,
   "metadata": {},
   "outputs": [],
   "source": []
  }
 ],
 "metadata": {
  "kernelspec": {
   "display_name": "drlnd",
   "language": "python",
   "name": "drlnd"
  },
  "language_info": {
   "codemirror_mode": {
    "name": "ipython",
    "version": 3
   },
   "file_extension": ".py",
   "mimetype": "text/x-python",
   "name": "python",
   "nbconvert_exporter": "python",
   "pygments_lexer": "ipython3",
   "version": "3.6.13"
  }
 },
 "nbformat": 4,
 "nbformat_minor": 2
}
