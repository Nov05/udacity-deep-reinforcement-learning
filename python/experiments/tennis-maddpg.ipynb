{
 "cells": [
  {
   "cell_type": "markdown",
   "metadata": {},
   "source": [
    "# Multi-agent DDPG for Solving Unity's \"Tennis\" Problem\n",
    "\n",
    "In this notebook we report how we used Multi-agent Deep Deterministic Policy Gradient (MADDPG) algorithm to solve a modified version of Unitfy's \"Tennis\" environment, where we need to control two agents to play tennis in a 3D environment.\n",
    "\n",
    "This notebook contains all the code for training and running the agent.\n",
    "\n",
    "A demo of a pair of trained agents is shown in the gif below:\n"
   ]
  },
  {
   "cell_type": "markdown",
   "metadata": {},
   "source": [
    "## Environment Setup\n",
    "\n",
    "The dependencies can be set up by following the instructions from the [DRLND](https://github.com/udacity/deep-reinforcement-learning#dependencies) repo. Once it's done, the following imports should work:"
   ]
  },
  {
   "cell_type": "code",
   "execution_count": 1,
   "metadata": {},
   "outputs": [
    {
     "name": "stdout",
     "output_type": "stream",
     "text": [
      "d:\\github\\udacity-deep-reinforcement-learning\\python\n"
     ]
    },
    {
     "name": "stderr",
     "output_type": "stream",
     "text": [
      "d:\\Users\\guido\\miniconda3\\envs\\drlnd_py310\\lib\\site-packages\\IPython\\core\\magics\\osm.py:417: UserWarning: This is now an optional IPython functionality, setting dhist requires you to install the `pickleshare` library.\n",
      "  self.shell.db['dhist'] = compress_dhist(dhist)[-100:]\n"
     ]
    }
   ],
   "source": [
    "%cd ../../python/"
   ]
  },
  {
   "cell_type": "code",
   "execution_count": 2,
   "metadata": {},
   "outputs": [],
   "source": [
    "import collections\n",
    "import copy\n",
    "import itertools\n",
    "import math\n",
    "from dataclasses import dataclass\n",
    "from typing import Any, List, Tuple, Optional, Generator\n",
    "import random\n",
    "import os\n",
    "import wandb\n",
    "\n",
    "import numpy\n",
    "import torch\n",
    "from unityagents import UnityEnvironment\n",
    "\n",
    "import matplotlib.pyplot as plt\n",
    "%matplotlib inline"
   ]
  },
  {
   "cell_type": "markdown",
   "metadata": {},
   "source": [
    "Note that to make GPU training work on our machine, the following version of PyTorch is used:"
   ]
  },
  {
   "cell_type": "code",
   "execution_count": 3,
   "metadata": {},
   "outputs": [
    {
     "name": "stdout",
     "output_type": "stream",
     "text": [
      "Version: 2.5.1; Cuda available: True\n"
     ]
    }
   ],
   "source": [
    "print(f\"Version: {torch.__version__}; Cuda available: {torch.cuda.is_available()}\")"
   ]
  },
  {
   "cell_type": "markdown",
   "metadata": {},
   "source": [
    "Additionally, we also need to download the pre-built Unity environment, which can be downloaded for different platforms:\n",
    "\n",
    "- Linux: [click here](https://s3-us-west-1.amazonaws.com/udacity-drlnd/P3/Tennis/Tennis_Linux.zip)\n",
    "- Mac OSX: [click here](https://s3-us-west-1.amazonaws.com/udacity-drlnd/P3/Tennis/Tennis.app.zip)\n",
    "- Windows (32-bit): [click here](https://s3-us-west-1.amazonaws.com/udacity-drlnd/P3/Tennis/Tennis_Windows_x86.zip)\n",
    "- Windows (64-bit): [click here](https://s3-us-west-1.amazonaws.com/udacity-drlnd/P3/Tennis/Tennis_Windows_x86_64.zip)\n",
    "\n",
    "Once downloaded and extracted, please set the path below accordingly."
   ]
  },
  {
   "cell_type": "code",
   "execution_count": 4,
   "metadata": {},
   "outputs": [],
   "source": [
    "ENV_PATH = '..\\data\\Tennis_Windows_x86_64\\Tennis.exe'"
   ]
  },
  {
   "cell_type": "markdown",
   "metadata": {},
   "source": [
    "If set up correctly, we should be able to initialize the environment:"
   ]
  },
  {
   "cell_type": "code",
   "execution_count": 5,
   "metadata": {},
   "outputs": [
    {
     "name": "stdout",
     "output_type": "stream",
     "text": [
      "👉 UnityEnvironment seed: 0\n",
      "🟢 RpcCommunicator at port 5005 is initializing...\n"
     ]
    },
    {
     "name": "stderr",
     "output_type": "stream",
     "text": [
      "INFO:unityagents:\n",
      "'Academy' started successfully!\n",
      "Unity Academy name: Academy\n",
      "        Number of Brains: 1\n",
      "        Number of External Brains : 1\n",
      "        Lesson number : 0\n",
      "        Reset Parameters :\n",
      "\t\t\n",
      "Unity brain name: TennisBrain\n",
      "        Number of Visual Observations (per agent): 0\n",
      "        Vector Observation space type: continuous\n",
      "        Vector Observation space size (per agent): 8\n",
      "        Number of stacked Vector Observation: 3\n",
      "        Vector Action space type: continuous\n",
      "        Vector Action space size (per agent): 2\n",
      "        Vector Action descriptions: , \n"
     ]
    }
   ],
   "source": [
    "class ParallelEnv:\n",
    "    \"\"\"A simple wrapper for the environment with parallel agents.\"\"\"\n",
    "\n",
    "    def __init__(self):\n",
    "        self._env = UnityEnvironment(file_name=ENV_PATH, no_graphics=True)\n",
    "\n",
    "        env_info = self._env.reset(train_mode=True)[self._brain_name]\n",
    "        self.num_agents = len(env_info.agents)\n",
    "\n",
    "    @property\n",
    "    def _brain_name(self):\n",
    "        return self._env.brain_names[0]\n",
    "\n",
    "    @property\n",
    "    def _brain(self):\n",
    "        return self._env.brains[self._brain_name]\n",
    "\n",
    "    @property\n",
    "    def action_dim(self) -> int:\n",
    "        \"\"\"The size of a action vector.\"\"\"\n",
    "        return self._brain.vector_action_space_size\n",
    "\n",
    "    @property\n",
    "    def action_scale(self) -> float:\n",
    "        \"\"\"The scale of action values.\n",
    "\n",
    "        Each dimension of the action vector lies in range [-scale, scale].\n",
    "\n",
    "        \"\"\"\n",
    "        return 1.0\n",
    "\n",
    "    def sample_action(self) -> numpy.array:\n",
    "        \"\"\"Sample an action vector uniformly at random.\"\"\"\n",
    "        return numpy.random.uniform(\n",
    "            low=-self.action_scale,\n",
    "            high=self.action_scale,\n",
    "            size=(self.num_agents, self.action_dim),\n",
    "        )\n",
    "\n",
    "    @property\n",
    "    def state_dim(self) -> int:\n",
    "        \"\"\"The size of a state vector.\"\"\"\n",
    "        return self._brain.vector_observation_space_size * self._brain.num_stacked_vector_observations\n",
    "\n",
    "    def reset(self, train_mode=True) -> numpy.array:\n",
    "        \"\"\"Reset the environment and returns the initial state.\"\"\"\n",
    "        env_info = self._env.reset(train_mode=train_mode)[self._brain_name]\n",
    "        init_state = env_info.vector_observations\n",
    "        assert init_state.shape == (self.num_agents, self.state_dim)\n",
    "        return init_state\n",
    "\n",
    "    def step(\n",
    "        self, actions: numpy.array\n",
    "    ) -> Tuple[numpy.array, numpy.array, numpy.array]:\n",
    "        \"\"\"Take a step with the given actions.\n",
    "\n",
    "        Returns a tuple of (states, rewards, done-flags) for all parallel agents.\n",
    "\n",
    "        \"\"\"\n",
    "        assert actions.shape == (self.num_agents, self.action_dim)\n",
    "        env_info = self._env.step(actions)[self._brain_name]\n",
    "        return (\n",
    "            numpy.array(env_info.vector_observations, dtype=numpy.float32),\n",
    "            numpy.array(env_info.rewards, dtype=numpy.float32),\n",
    "            numpy.array(env_info.local_done, dtype=bool),\n",
    "        )\n",
    "\n",
    "    def close(self) -> None:\n",
    "        \"\"\"Closes the environment.\"\"\"\n",
    "        self._env.close()\n",
    "\n",
    "\n",
    "env = ParallelEnv()"
   ]
  },
  {
   "cell_type": "markdown",
   "metadata": {},
   "source": [
    "### Environment description\n",
    "\n",
    "In this environment, two agents control rackets to bounce a ball over a net. If an agent hits the ball over the net, it receives a reward of +0.1. If an agent lets a ball hit the ground or hits the ball out of bounds, it receives a reward of -0.01. Thus, the goal of each agent is to keep the ball in play.\n",
    "\n",
    "The observation space consists of 8 variables corresponding to the position and velocity of the ball and racket. Each agent receives its own, local observation. Two continuous actions are available, corresponding to movement toward (or away from) the net, and jumping.\n",
    "\n",
    "The task is considered \"solved\" when the agents get an average score of +0.5 (over 100 consecutive episodes, after taking the maximum over both agents)."
   ]
  },
  {
   "cell_type": "code",
   "execution_count": 6,
   "metadata": {},
   "outputs": [
    {
     "name": "stdout",
     "output_type": "stream",
     "text": [
      "Number of agents: 2\n",
      "Action dimension: 2\n",
      "States dimension: 24\n"
     ]
    }
   ],
   "source": [
    "print(f'Number of agents: {env.num_agents}')\n",
    "print(f'Action dimension: {env.action_dim}')\n",
    "print(f'States dimension: {env.state_dim}')"
   ]
  },
  {
   "cell_type": "markdown",
   "metadata": {},
   "source": [
    "## Methodology & Implementation\n",
    "\n",
    "To solve this problem, we experimented with MADDPG as described by Lowe et al. (2017). Compared DDPG as described by Lillicrap et al. (2015), we allow critics access to observations and actions from all agents, so that it can better guide the actors which only have access to their local observations.\n",
    "\n",
    "As described in the paper, we let each agent to have its own actor and critic networks not shared with each other. For this simple problem, using MADDPG doesn't necessarily seem to improve convergence speed, but it's interesting to see how agents with different behaviors are able to cooperate and bounce the ball back and forth.\n",
    "\n",
    "Additionally, we also incorporate extensions to DDPG from TD3 (Fujimoto et al. 2018), namely:\n",
    "\n",
    "- Clipped double Q-Learning for actor-critic\n",
    "- Delayed policy updates\n",
    "- Target policy smoothing regularization\n",
    "\n",
    "The incorporation of TD3 tricks into MADDPG has also been explored by Ackermann et al. (2019), which managed to achieve better result in their tests. They called the approach MATD3.\n",
    "\n",
    "Additionally, we also used prioritized experience replay as described by Schaul et al. (2015)."
   ]
  },
  {
   "cell_type": "markdown",
   "metadata": {},
   "source": [
    "### Hyper-parameters\n",
    "\n",
    "The hyper-parameters we used is shown as the default values in the following data class:"
   ]
  },
  {
   "cell_type": "code",
   "execution_count": 7,
   "metadata": {},
   "outputs": [
    {
     "data": {
      "text/plain": [
       "AgentConfig(horizon_length=10000, replay_buffer_size=100000, batch_size=256, critic_lr=0.0001, actor_lr=0.0001, exploration_noise=0.1, policy_noise=0.2, policy_noise_clip=0.5, policy_update_freq=2, discount_factor=0.99, soft_update_factor=0.005, pure_exploration_steps=10000)"
      ]
     },
     "execution_count": 7,
     "metadata": {},
     "output_type": "execute_result"
    }
   ],
   "source": [
    "@dataclass\n",
    "class AgentConfig:\n",
    "    horizon_length: int = 10000\n",
    "    replay_buffer_size: int = 100_000\n",
    "    batch_size: int = 256\n",
    "    critic_lr: float = 1e-4\n",
    "    actor_lr: float = 1e-4\n",
    "    exploration_noise: float = 0.1\n",
    "    policy_noise: float = 0.2\n",
    "    policy_noise_clip: float = 0.5\n",
    "    policy_update_freq: int = 2\n",
    "    discount_factor: float = 0.99\n",
    "    soft_update_factor: float = 0.005\n",
    "    pure_exploration_steps: int = 10_000\n",
    "    \n",
    "AgentConfig()"
   ]
  },
  {
   "cell_type": "markdown",
   "metadata": {},
   "source": [
    "### Prioritized experience replay\n",
    "Here we use prioritized experience replay as described in Schaul et al. (2015). Specifically, we implemented the proportional priorization variant with the sum-tree data structure.\n",
    "\n",
    "The code for the replay buffer is as follows:"
   ]
  },
  {
   "cell_type": "code",
   "execution_count": 8,
   "metadata": {},
   "outputs": [],
   "source": [
    "class PrioritizedReplayBuffer:\n",
    "    \"\"\"A proportionally prioritized replay buffer implemented with sum-tree.\"\"\"\n",
    "\n",
    "    _curr_index: int\n",
    "    _size: int\n",
    "    _max_priority: float\n",
    "    _sum_tree: List[float]\n",
    "    _priorities: List[float]\n",
    "    _samples: List[Any]\n",
    "\n",
    "    def __init__(self, buffer_size: int):\n",
    "        assert buffer_size > 1\n",
    "        self._curr_index = 0\n",
    "        self._size = 0\n",
    "        self._max_priority = 1.0\n",
    "        self._sum_tree = [0] * (2 ** (math.floor(math.log2(buffer_size - 1)) + 1) - 1)\n",
    "        self._priorities = [0] * buffer_size\n",
    "        self._samples = [None] * buffer_size\n",
    "\n",
    "    def _ancestor_indices(self, sample_index: int) -> Generator[int, None, None]:\n",
    "        assert 0 <= sample_index <= len(self._samples)\n",
    "        index = sample_index + len(self._sum_tree)\n",
    "        while index > 0:\n",
    "            index = (index - 1) // 2\n",
    "            yield index\n",
    "\n",
    "    @staticmethod\n",
    "    def _children_indices(index: int) -> Tuple[int, int]:\n",
    "        # Note that it could go out-of-bounds for the sum tree array\n",
    "        left_index = index * 2 + 1\n",
    "        right_index = left_index + 1\n",
    "        return left_index, right_index\n",
    "\n",
    "    def _set_priority(self, sample_index: int, priority: float):\n",
    "        assert priority > 0, \"Weights must be non-negative\"\n",
    "        delta = priority - self._priorities[sample_index]\n",
    "        self._priorities[sample_index] = priority\n",
    "        for index in self._ancestor_indices(sample_index):\n",
    "            self._sum_tree[index] += delta\n",
    "\n",
    "        self._max_priority = max(self._max_priority, priority)\n",
    "\n",
    "    def _set_sample(self, sample_index: int, sample: Any, priority: float):\n",
    "        self._set_priority(sample_index, priority)\n",
    "        self._samples[sample_index] = sample\n",
    "\n",
    "    class _SampleHandle:\n",
    "        \"\"\"A handle that allows access to the value and priority of a sample in the buffer.\"\"\"\n",
    "\n",
    "        _parent: \"PrioritizedReplayBuffer\"\n",
    "        _index: int\n",
    "\n",
    "        def __init__(self, parent: \"PrioritizedReplayBuffer\", index: int):\n",
    "            assert 0 <= index <= len(parent._samples)\n",
    "            self._parent = parent\n",
    "            self._index = index\n",
    "\n",
    "        @property\n",
    "        def value(self) -> Any:\n",
    "            \"\"\"The value of the sample.\"\"\"\n",
    "            return self._parent._samples[self._index]\n",
    "\n",
    "        @property\n",
    "        def priority(self) -> float:\n",
    "            \"\"\"The priority of the sample.\"\"\"\n",
    "            return self._parent._priorities[self._index]\n",
    "\n",
    "        @property\n",
    "        def sample_probability(self) -> float:\n",
    "            \"\"\"The probability of sampling this item.\"\"\"\n",
    "            return self.priority / self._parent.priority_sum\n",
    "\n",
    "        @priority.setter\n",
    "        def priority(self, priority: float) -> None:\n",
    "            \"\"\"Modify the priority of the sample.\"\"\"\n",
    "            self._parent._set_priority(self._index, priority)\n",
    "\n",
    "        def reset(self, value: Any, priority: float):\n",
    "            \"\"\"Modify both the value and the priority of the sample.\"\"\"\n",
    "            self._parent._set_sample(self._index, value, priority)\n",
    "\n",
    "    def add(self, value: Any, priority: Optional[float] = None) -> None:\n",
    "        \"\"\"Add a new sample.\"\"\"\n",
    "        # By default, the current maximum priority is used for new samples to make sure they get picked at least once\n",
    "        if priority is None:\n",
    "            priority = self._max_priority\n",
    "\n",
    "        self._SampleHandle(self, self._curr_index).reset(value, priority)\n",
    "\n",
    "        buffer_size = len(self._samples)\n",
    "        self._curr_index = (self._curr_index + 1) % buffer_size\n",
    "        self._size = min(self._size + 1, buffer_size)\n",
    "\n",
    "    @property\n",
    "    def priority_sum(self) -> float:\n",
    "        \"\"\"The sum of priority values of all samples in the buffer.\n",
    "\n",
    "        This is used to compute sample probabilities.\n",
    "\n",
    "        \"\"\"\n",
    "        return self._sum_tree[0]\n",
    "\n",
    "    def sample_single(self, query: Optional[float] = None) -> _SampleHandle:\n",
    "        \"\"\"Draw a sample.\n",
    "\n",
    "        The query parameter is a float in [0, 1] for stratified sampling.\n",
    "\n",
    "        \"\"\"\n",
    "        assert self.priority_sum > 0.0, \"Nothing has been added\"\n",
    "\n",
    "        if query is None:\n",
    "            query = random.random()\n",
    "\n",
    "        assert 0.0 <= query <= 1.0\n",
    "        target = self.priority_sum * query\n",
    "        index = 0\n",
    "        while True:\n",
    "            assert 0.0 <= target <= self._sum_tree[index]\n",
    "            index_l, index_r = self._children_indices(index)\n",
    "\n",
    "            assert (index_l < len(self._sum_tree)) == (index_r < len(self._sum_tree))\n",
    "            if index_l >= len(self._sum_tree):\n",
    "                # We've reached the leaves when both left & right indices are out of range for the tree structure.\n",
    "                # Offset both indices to get the indices into the sample list before breaking.\n",
    "                index_l -= len(self._sum_tree)\n",
    "                index_r -= len(self._sum_tree)\n",
    "                break\n",
    "\n",
    "            # If the target is smaller than the sum of the left subtree, go left; otherwise go right\n",
    "            sum_l = self._sum_tree[index_l]\n",
    "            if target <= sum_l:\n",
    "                index = index_l\n",
    "            else:\n",
    "                target -= sum_l\n",
    "                index = index_r\n",
    "\n",
    "        assert index_l < len(self._priorities)\n",
    "        if target <= self._priorities[index_l]:\n",
    "            index = index_l\n",
    "        else:\n",
    "            assert index_r < len(self._priorities)\n",
    "            index = index_r\n",
    "\n",
    "        return self._SampleHandle(self, index)\n",
    "\n",
    "    def sample_batch(self, batch_size: int) -> List[_SampleHandle]:\n",
    "        \"\"\"Draw a stratified batch of samples with the given size.\"\"\"\n",
    "        # Divide the sum range into batch_size buckets, and do a weighted sampling from each bucket.\n",
    "        end_points = numpy.linspace(0.0, 1.0, batch_size + 1).tolist()\n",
    "        return [\n",
    "            self.sample_single(query=numpy.random.uniform(l, r))\n",
    "            for l, r in zip(end_points[:-1], end_points[1:])\n",
    "        ]\n",
    "\n",
    "    def __len__(self):\n",
    "        \"\"\"Return the current size of internal memory.\"\"\"\n",
    "        return self._size"
   ]
  },
  {
   "cell_type": "markdown",
   "metadata": {},
   "source": [
    "### Actor-critic\n",
    "\n",
    "Like in TD3 (Fujimoto et al. 2018), we have one actor / policy network and a pair of critic / Q networks for each agent.\n",
    "\n",
    "Andrychowicz et al. (2020) suggested that it's helpful to initialize the final layer of the actor network with small weights so that initially actions depend little on the observations. They suggested doing the same for the critic network doesn't seem to be useful, but it turns out that for this particular problem it does seem to help, too. This is probably because during the initial training state the expected accumulative reward is always close to 0 anyways."
   ]
  },
  {
   "cell_type": "code",
   "execution_count": 9,
   "metadata": {},
   "outputs": [],
   "source": [
    "class ActorNet(torch.nn.Module):\n",
    "    def __init__(\n",
    "        self,\n",
    "        state_dim: int,\n",
    "        action_dim: int,\n",
    "        action_scale=1.0,\n",
    "        hidden_dims: Tuple[int, ...] = (256, 256),\n",
    "    ):\n",
    "        super().__init__()\n",
    "        self.action_scale = action_scale\n",
    "        self.fcs = torch.nn.ModuleList(\n",
    "            [\n",
    "                torch.nn.Linear(in_size, out_size)\n",
    "                for in_size, out_size in zip(\n",
    "                    (state_dim,) + hidden_dims, hidden_dims + (action_dim,)\n",
    "                )\n",
    "            ]\n",
    "        )\n",
    "        with torch.no_grad():\n",
    "            self.fcs[-1].weight.divide_(100.)\n",
    "\n",
    "    def forward(self, state):\n",
    "        x = state\n",
    "        for i, fc in enumerate(self.fcs, start=1):\n",
    "            x = fc(x)\n",
    "            if i != len(self.fcs):\n",
    "                x = torch.relu(x)\n",
    "\n",
    "        x = torch.tanh(x) * self.action_scale\n",
    "        return x\n",
    "\n",
    "\n",
    "class CriticNet(torch.nn.Module):\n",
    "    def __init__(\n",
    "        self,\n",
    "        num_agents: int,\n",
    "        state_dim: int,\n",
    "        action_dim: int,\n",
    "        hidden_dims: Tuple[int, ...] = (256, 256),\n",
    "    ):\n",
    "        super().__init__()\n",
    "        self.fcs = torch.nn.ModuleList(\n",
    "            [\n",
    "                torch.nn.Linear(in_size, out_size)\n",
    "                for in_size, out_size in zip(\n",
    "                    (num_agents * (state_dim + action_dim),) + hidden_dims,\n",
    "                    hidden_dims + (1,)\n",
    "                )\n",
    "            ]\n",
    "        )\n",
    "        with torch.no_grad():\n",
    "            self.fcs[-1].weight.divide_(100.)\n",
    "\n",
    "\n",
    "    def forward(self, states: List[torch.FloatTensor], actions: List[torch.FloatTensor]):\n",
    "        x = torch.cat(states + actions, dim=1)\n",
    "        for i, fc in enumerate(self.fcs, start=1):\n",
    "            x = fc(x)\n",
    "            if i != len(self.fcs):\n",
    "                x = torch.relu(x)\n",
    "\n",
    "        return x\n",
    "\n",
    "\n",
    "class CriticPair(torch.nn.Module):\n",
    "    \"\"\"A simple wrapper for a pair of critics.\"\"\"\n",
    "\n",
    "    def __init__(\n",
    "        self,\n",
    "        num_agents: int,\n",
    "        state_dim: int,\n",
    "        action_dim: int,\n",
    "    ):\n",
    "        super().__init__()\n",
    "        self._critics = torch.nn.ModuleList(\n",
    "            [CriticNet(num_agents, state_dim, action_dim) for _ in range(2)]\n",
    "        )\n",
    "\n",
    "    def __getitem__(self, index: int) -> torch.nn.Module:\n",
    "        return self._critics[index]\n",
    "\n",
    "    def forward(self, state, action):\n",
    "        return self._critics[0](state, action), self._critics[1](state, action)"
   ]
  },
  {
   "cell_type": "markdown",
   "metadata": {},
   "source": [
    "### MATD3\n",
    "\n",
    "Here the agents are trained using the MADDPG framework, while also incorporating extensions introduced by TD3.\n",
    "\n",
    "Like in TD3, we start with 10,000 steps of \"pure exploration\", during which the agents take steps completely at random. This seems to cause the agents to take more unnecessary and eradic actions, but does seem to help with exploration and prevent stagnation."
   ]
  },
  {
   "cell_type": "code",
   "execution_count": null,
   "metadata": {},
   "outputs": [],
   "source": [
    "class MultiAgent:\n",
    "    device = torch.device(\"cuda:0\" if torch.cuda.is_available() else \"cpu\")\n",
    "\n",
    "    env: ParallelEnv\n",
    "    config: AgentConfig\n",
    "\n",
    "    replay_buffers: List[PrioritizedReplayBuffer]\n",
    "\n",
    "    critics_local: List[CriticPair]\n",
    "    critics_target: List[CriticPair]\n",
    "    actors_local: List[ActorNet]\n",
    "    actors_target: List[ActorNet]\n",
    "\n",
    "    critic_optimizers: List[torch.optim.Optimizer]\n",
    "    actor_optimizers: List[torch.optim.Optimizer]\n",
    "\n",
    "    t_step: int\n",
    "\n",
    "    def __init__(\n",
    "        self,\n",
    "        env: ParallelEnv,\n",
    "        config: Optional[AgentConfig] = None,\n",
    "        steps_offset: int = 0\n",
    "    ):\n",
    "        self.env = env\n",
    "        self.config = config or AgentConfig()\n",
    "\n",
    "        self.replay_buffers = [\n",
    "            PrioritizedReplayBuffer(self.config.replay_buffer_size)\n",
    "            for _ in range(self.env.num_agents)\n",
    "        ]\n",
    "\n",
    "        self.critics_local = [\n",
    "            CriticPair(\n",
    "                env.num_agents,\n",
    "                env.state_dim,\n",
    "                env.action_dim,\n",
    "            ).to(self.device)\n",
    "            for _ in range(self.env.num_agents)\n",
    "        ]\n",
    "        self.actors_local = [\n",
    "            ActorNet(\n",
    "                env.state_dim,\n",
    "                env.action_dim,\n",
    "                action_scale=env.action_scale,\n",
    "            ).to(self.device)\n",
    "            for _ in range(self.env.num_agents)\n",
    "        ]\n",
    "\n",
    "        self.critics_target = copy.deepcopy(self.critics_local)\n",
    "        for m in self.critics_target:\n",
    "            m.eval()\n",
    "\n",
    "        self.actors_target = copy.deepcopy(self.actors_local)\n",
    "        for m in self.actors_target:\n",
    "            m.eval()\n",
    "\n",
    "        self.critic_optimizers = [\n",
    "            torch.optim.Adam(\n",
    "                critics.parameters(),\n",
    "                lr=self.config.critic_lr,\n",
    "            )\n",
    "            for critics in self.critics_local\n",
    "        ]\n",
    "        self.actor_optimizers = [\n",
    "            torch.optim.Adam(\n",
    "                actor.parameters(),\n",
    "                lr=self.config.actor_lr,\n",
    "            )\n",
    "            for actor in self.actors_local\n",
    "        ]\n",
    "\n",
    "        self.t_step = 0\n",
    "        self.steps_offset = steps_offset\n",
    "        wandb.init(\n",
    "            # set the wandb project where this run will be logged\n",
    "            project=\"udacity-drlnd-matd3-unity-tennis\",\n",
    "            config=self.config\n",
    "            )\n",
    "\n",
    "    def _choose_action_inner(\n",
    "        self,\n",
    "        actor: ActorNet,\n",
    "        states: torch.FloatTensor,\n",
    "        *,\n",
    "        policy_noise=False,\n",
    "        exploration_noise=False,\n",
    "    ) -> numpy.array:\n",
    "        assert not (policy_noise and exploration_noise)\n",
    "\n",
    "        actions = actor(states)\n",
    "        if policy_noise:\n",
    "            # Introduce policy noise to smooth the critic fit\n",
    "            actions += torch.clamp(\n",
    "                torch.randn_like(actions) * self.config.policy_noise,\n",
    "                min=-self.config.policy_noise_clip,\n",
    "                max=self.config.policy_noise_clip,\n",
    "            )\n",
    "\n",
    "        if exploration_noise:\n",
    "            # Introduce noise for exploration\n",
    "            actions += torch.randn_like(actions) * self.config.exploration_noise\n",
    "\n",
    "        return actions.clamp(\n",
    "            min=-self.env.action_scale,\n",
    "            max=self.env.action_scale,\n",
    "        )\n",
    "\n",
    "    def choose_action(\n",
    "        self, all_states: List[numpy.array], *, exploration_noise=False\n",
    "    ) -> numpy.array:\n",
    "        \"\"\"Choose actions for the given batch of states.\"\"\"\n",
    "        assert len(all_states) == len(self.actors_local)\n",
    "        all_actions = []\n",
    "        for actor, states in zip(self.actors_local, all_states):\n",
    "            actor.eval()\n",
    "            with torch.no_grad():\n",
    "                states = torch.from_numpy(states).float().to(self.device)\n",
    "                actions = self._choose_action_inner(\n",
    "                    actor, states, exploration_noise=exploration_noise\n",
    "                ).cpu().numpy()\n",
    "\n",
    "            actor.train()\n",
    "            all_actions.append(actions)\n",
    "        \n",
    "        return numpy.array(all_actions)\n",
    "\n",
    "    def _step_learn(self, agent_index):\n",
    "        if (\n",
    "            len(self.replay_buffers[agent_index]) < self.config.batch_size\n",
    "            # Only start learning after the pure exploration phase has ended\n",
    "            or self.t_step <= self.config.pure_exploration_steps\n",
    "        ):\n",
    "            return\n",
    "\n",
    "        with torch.no_grad():\n",
    "            # Sample a batch of experiences\n",
    "            replay_buffer = self.replay_buffers[agent_index]\n",
    "            experiences = replay_buffer.sample_batch(self.config.batch_size)\n",
    "            states, actions, rewards, next_states, dones = [\n",
    "                [\n",
    "                    torch.from_numpy(numpy.vstack([\n",
    "                        v[i] for v in col\n",
    "                    ])).to(dtype=torch.float, device=self.device)\n",
    "                    for i in range(self.env.num_agents)\n",
    "                ]\n",
    "                for col in zip(*[e.value for e in experiences])\n",
    "            ]\n",
    "\n",
    "            # Calculate importance sampling weights from sampling probs (for simply not using alpha / beta here)\n",
    "            sample_probs = torch.from_numpy(\n",
    "                numpy.vstack([e.sample_probability for e in experiences])\n",
    "            ).to(device=self.device, dtype=torch.float)\n",
    "            sample_weights = 1.0 / (sample_probs * len(replay_buffer))\n",
    "\n",
    "            # Calculate target Q values\n",
    "            assert len(self.actors_target) == len(next_states)\n",
    "            next_actions = [\n",
    "                self._choose_action_inner(\n",
    "                    actor, ns, policy_noise=True\n",
    "                )\n",
    "                for actor, ns in zip(self.actors_target, next_states)\n",
    "            ]\n",
    "            q_target = rewards[agent_index] + (\n",
    "                (1.0 - dones[agent_index])\n",
    "                * self.config.discount_factor\n",
    "                * torch.minimum(*self.critics_target[agent_index](next_states, next_actions))\n",
    "            )\n",
    "\n",
    "        critic_losses = sum(\n",
    "            torch.nn.functional.mse_loss(q, q_target, reduction=\"none\")\n",
    "            for q in self.critics_local[agent_index](states, actions)\n",
    "        )\n",
    "\n",
    "        # Update local critics\n",
    "        critic_loss = torch.mean(critic_losses * sample_weights)\n",
    "        if torch.isnan(critic_loss).cpu().item():\n",
    "            raise RuntimeError(\"NaN loss\")\n",
    "        \n",
    "        wandb.log({f'critic_loss_{agent_index}': critic_loss}, \n",
    "                  step=self.t_step+self.steps_offset)\n",
    "        self.critic_optimizers[agent_index].zero_grad()\n",
    "        critic_loss.backward()\n",
    "        self.critic_optimizers[agent_index].step()\n",
    "\n",
    "        # Update sampling priorities\n",
    "        with torch.no_grad():\n",
    "            new_sample_priorities = critic_losses.sqrt().squeeze().cpu().numpy()\n",
    "            assert len(experiences) == len(new_sample_priorities)\n",
    "            for e, p in zip(experiences, new_sample_priorities):\n",
    "                e.priority = p\n",
    "\n",
    "        # Periodically update local actor as well as target networks\n",
    "        if self.t_step % self.config.policy_update_freq == 0:\n",
    "            # Update local actor to step towards maximizing the (first) local critic value\n",
    "            actor_loss = -torch.mean(\n",
    "                self.critics_local[agent_index][0](states, [\n",
    "                    actions[i]\n",
    "                    if i != agent_index\n",
    "                    else self.actors_local[agent_index](states[agent_index])\n",
    "                    for i in range(self.env.num_agents)\n",
    "                ])\n",
    "            )\n",
    "            if torch.isnan(actor_loss).cpu().item():\n",
    "                raise RuntimeError(\"NaN loss\")\n",
    "            \n",
    "            wandb.log({f'actor_loss_{agent_index}': actor_loss}, \n",
    "                      step=self.t_step+self.steps_offset)\n",
    "            self.actor_optimizers[agent_index].zero_grad()\n",
    "            actor_loss.backward()\n",
    "            self.actor_optimizers[agent_index].step()\n",
    "\n",
    "            # Soft-update target critics & actor\n",
    "            tau = self.config.soft_update_factor\n",
    "            for local_net, target_net in [\n",
    "                (self.actors_local[agent_index], self.actors_target[agent_index]),\n",
    "                (self.critics_local[agent_index], self.critics_target[agent_index]),\n",
    "            ]:\n",
    "                for local_param, target_param in zip(\n",
    "                    local_net.parameters(), target_net.parameters()\n",
    "                ):\n",
    "                    target_param.data.copy_(\n",
    "                        tau * local_param.data + (1.0 - tau) * target_param.data\n",
    "                    )\n",
    "\n",
    "    def _train_episode(self):\n",
    "        states = self.env.reset()\n",
    "        episode_scores = numpy.zeros(self.env.num_agents, dtype=float)\n",
    "        for _ in range(self.config.horizon_length):\n",
    "            if numpy.any(numpy.isnan(states)):\n",
    "                print(\"\\nNaN State, episode terminated\")\n",
    "                break\n",
    "\n",
    "            # If we're in pure exploration phase, sample an action uniformly at random\n",
    "            if self.t_step <= self.config.pure_exploration_steps:\n",
    "                actions = self.env.sample_action()\n",
    "            else:\n",
    "                actions = self.choose_action(states, exploration_noise=True)\n",
    "                if numpy.any(numpy.isnan(actions)):\n",
    "                    raise RuntimeError(\"NaN Action\")\n",
    "\n",
    "            next_states, rewards, dones = self.env.step(actions)\n",
    "            if numpy.any(numpy.isnan(rewards)):\n",
    "                print(\"\\nNaN Reward, episode terminated\")\n",
    "                break\n",
    "\n",
    "            for i, replay_buffer in enumerate(self.replay_buffers):\n",
    "                replay_buffer.add((states, actions, rewards, next_states, dones))\n",
    "\n",
    "            self.t_step += 1\n",
    "            for i in range(self.env.num_agents):\n",
    "                self._step_learn(i)\n",
    "\n",
    "            states = next_states\n",
    "            episode_scores += rewards\n",
    "            if numpy.any(dones):\n",
    "                break\n",
    "\n",
    "        return numpy.max(episode_scores)\n",
    "\n",
    "    def train(\n",
    "        self,\n",
    "        max_steps=1_000_000,\n",
    "        solved_score=0.5,\n",
    "    ):\n",
    "        \"\"\"Train the agent until the max training steps or the solved score is reached.\n",
    "\n",
    "        Returns a list of (step, score) pairs, one for each training episode.\n",
    "\n",
    "        \"\"\"\n",
    "        scores = []\n",
    "        scores_window = collections.deque(maxlen=100)\n",
    "        solved = False\n",
    "        max_windowed_average_score = float(\"-inf\")\n",
    "\n",
    "        stop_step = self.t_step + max_steps\n",
    "        while self.t_step < stop_step:\n",
    "            average_score = self._train_episode()\n",
    "            scores.append((self.t_step, average_score))\n",
    "            scores_window.append(average_score)\n",
    "            windowed_average_score = numpy.mean(scores_window)\n",
    "            wandb.log({'episodic_return_train': average_score}, \n",
    "                      step=self.t_step+self.steps_offset)  ## w&b logs\n",
    "            print(\n",
    "                f\"\\rEpisode {len(scores)}\\tStep {self.t_step}\\tScore: {average_score:.2f}\\t\"\n",
    "                f\"Windowed average Score: {windowed_average_score:.2f}\",\n",
    "                end=\"\\n\" if len(scores) % 500 == 0 else \"\",\n",
    "            )\n",
    "\n",
    "            if not solved and windowed_average_score >= solved_score:\n",
    "                print(\n",
    "                    f\"\\nReached average score of {windowed_average_score:.2f} between \"\n",
    "                    f\"episode {len(scores) - len(scores_window) + 1} and episode {len(scores)}\"\n",
    "                )\n",
    "                solved = True\n",
    "\n",
    "            # Save the best model so far\n",
    "            if average_score >= windowed_average_score > max_windowed_average_score:\n",
    "                self.save()\n",
    "                max_windowed_average_score = windowed_average_score\n",
    "\n",
    "        return scores\n",
    "\n",
    "    def run_episode(self, horizon_length=10000):\n",
    "        \"\"\"Run one episode using the agent.\"\"\"\n",
    "        states = self.env.reset(train_mode=False)\n",
    "        score = 0.0\n",
    "        for _ in range(horizon_length):\n",
    "            if numpy.any(numpy.isnan(states)):\n",
    "                print(\"\\nNaN State, episode terminated\")\n",
    "                break\n",
    "\n",
    "            actions = self.choose_action(states)\n",
    "            if numpy.any(numpy.isnan(actions)):\n",
    "                raise RuntimeError(\"NaN Action\")\n",
    "\n",
    "            next_states, rewards, dones = self.env.step(actions)\n",
    "            if numpy.any(numpy.isnan(rewards)):\n",
    "                print(\"\\nNaN Reward, episode terminated\")\n",
    "                break\n",
    "\n",
    "            states = next_states\n",
    "            score += numpy.sum(rewards)\n",
    "            if numpy.any(dones):\n",
    "                break\n",
    "\n",
    "        return score / self.env.num_agents\n",
    "    \n",
    "    def save(self, filepath='experiments/maddpg-unity-tennis/'):\n",
    "        \"\"\"Save the trained model.\"\"\"\n",
    "        for i in range(self.env.num_agents):\n",
    "            torch.save(self.actors_local[i].state_dict(), f\"{filepath}actor{i}.pt\")\n",
    "            torch.save(self.critics_local[i].state_dict(), f\"{filepath}critics{i}.pt\")\n",
    "    \n",
    "    def load(self, steps_offset:int=0, filepath='experiments/maddpg-unity-tennis/'):\n",
    "        self.t_step, self.steps_offset = 0, steps_offset\n",
    "        \"\"\"Load the previously trained model.\"\"\"\n",
    "        for i in range(self.env.num_agents):\n",
    "            self.actors_local[i].load_state_dict(torch.load(f\"{filepath}actor{i}.pt\"))\n",
    "            self.critics_local[i].load_state_dict(torch.load(f\"{filepath}critics{i}.pt\"))"
   ]
  },
  {
   "cell_type": "code",
   "execution_count": 15,
   "metadata": {},
   "outputs": [],
   "source": [
    "import pickle\n",
    "filepath = 'experiments/maddpg-unity-tennis/'\n",
    "\n",
    "def save_scores(scores):\n",
    "    filename = f\"{filepath}scores.pkl\"\n",
    "    with open(filename, 'wb') as f:\n",
    "        pickle.dump(scores, f)\n",
    "\n",
    "def load_scores():\n",
    "    filename = f\"{filepath}scores.pkl\"\n",
    "    with open(filename, 'rb') as f:\n",
    "        loaded_list = pickle.load(f)\n",
    "    return loaded_list"
   ]
  },
  {
   "cell_type": "markdown",
   "metadata": {},
   "source": [
    "## Train & Evaluate\n",
    "\n",
    "With everything set up, we're now ready to train the agent. Here we train the agent for 1 million steps."
   ]
  },
  {
   "cell_type": "code",
   "execution_count": null,
   "metadata": {},
   "outputs": [],
   "source": [
    "wandb.finish()\n",
    "# os.environ['WANDB_MODE'] = 'disabled'  ## log training process with W&B if uncommented\n",
    "os.environ['WANDB_NOTEBOOK_NAME'] = 'udacity-drlnd-matd3-unity-tennis'"
   ]
  },
  {
   "cell_type": "code",
   "execution_count": null,
   "metadata": {},
   "outputs": [
    {
     "name": "stderr",
     "output_type": "stream",
     "text": [
      "\u001b[34m\u001b[1mwandb\u001b[0m: \u001b[33mWARNING\u001b[0m WANDB_NOTEBOOK_NAME should be a path to a notebook file, couldn't find udacity-drlnd-matd3-unity-tennis.\n",
      "\u001b[34m\u001b[1mwandb\u001b[0m: Using wandb-core as the SDK backend.  Please refer to https://wandb.me/wandb-core for more information.\n",
      "\u001b[34m\u001b[1mwandb\u001b[0m: Currently logged in as: \u001b[33mnov05\u001b[0m. Use \u001b[1m`wandb login --relogin`\u001b[0m to force relogin\n"
     ]
    },
    {
     "data": {
      "text/html": [
       "Tracking run with wandb version 0.18.6"
      ],
      "text/plain": [
       "<IPython.core.display.HTML object>"
      ]
     },
     "metadata": {},
     "output_type": "display_data"
    },
    {
     "data": {
      "text/html": [
       "Run data is saved locally in <code>d:\\github\\udacity-deep-reinforcement-learning\\python\\wandb\\run-20241114_234503-8yg7m0ph</code>"
      ],
      "text/plain": [
       "<IPython.core.display.HTML object>"
      ]
     },
     "metadata": {},
     "output_type": "display_data"
    },
    {
     "data": {
      "text/html": [
       "Syncing run <strong><a href='https://wandb.ai/nov05/udacity-drlnd-matd3-unity-tennis/runs/8yg7m0ph' target=\"_blank\">ethereal-firebrand-132</a></strong> to <a href='https://wandb.ai/nov05/udacity-drlnd-matd3-unity-tennis' target=\"_blank\">Weights & Biases</a> (<a href='https://wandb.me/developer-guide' target=\"_blank\">docs</a>)<br/>"
      ],
      "text/plain": [
       "<IPython.core.display.HTML object>"
      ]
     },
     "metadata": {},
     "output_type": "display_data"
    },
    {
     "data": {
      "text/html": [
       " View project at <a href='https://wandb.ai/nov05/udacity-drlnd-matd3-unity-tennis' target=\"_blank\">https://wandb.ai/nov05/udacity-drlnd-matd3-unity-tennis</a>"
      ],
      "text/plain": [
       "<IPython.core.display.HTML object>"
      ]
     },
     "metadata": {},
     "output_type": "display_data"
    },
    {
     "data": {
      "text/html": [
       " View run at <a href='https://wandb.ai/nov05/udacity-drlnd-matd3-unity-tennis/runs/8yg7m0ph' target=\"_blank\">https://wandb.ai/nov05/udacity-drlnd-matd3-unity-tennis/runs/8yg7m0ph</a>"
      ],
      "text/plain": [
       "<IPython.core.display.HTML object>"
      ]
     },
     "metadata": {},
     "output_type": "display_data"
    }
   ],
   "source": [
    "agent = MultiAgent(env)"
   ]
  },
  {
   "cell_type": "code",
   "execution_count": 13,
   "metadata": {},
   "outputs": [
    {
     "name": "stdout",
     "output_type": "stream",
     "text": [
      "Episode 500\tStep 8979\tScore: 0.00\tWindowed average Score: 0.02\n",
      "Episode 1000\tStep 17138\tScore: 0.00\tWindowed average Score: 0.00\n",
      "Episode 1500\tStep 24554\tScore: 0.00\tWindowed average Score: 0.02\n",
      "Episode 2000\tStep 35217\tScore: 0.10\tWindowed average Score: 0.05\n",
      "Episode 2500\tStep 47361\tScore: 0.00\tWindowed average Score: 0.04\n",
      "Episode 3000\tStep 60772\tScore: 0.00\tWindowed average Score: 0.05\n",
      "Episode 3500\tStep 75043\tScore: 0.00\tWindowed average Score: 0.06\n",
      "Episode 4000\tStep 89287\tScore: 0.10\tWindowed average Score: 0.05\n",
      "Episode 4500\tStep 103504\tScore: 0.10\tWindowed average Score: 0.05\n",
      "Episode 5000\tStep 117176\tScore: 0.10\tWindowed average Score: 0.05\n",
      "Episode 5500\tStep 130580\tScore: 0.10\tWindowed average Score: 0.04\n",
      "Episode 6000\tStep 143629\tScore: 0.00\tWindowed average Score: 0.06\n",
      "Episode 6500\tStep 157323\tScore: 0.10\tWindowed average Score: 0.05\n",
      "Episode 7000\tStep 171613\tScore: 0.10\tWindowed average Score: 0.05\n",
      "Episode 7500\tStep 185870\tScore: 0.00\tWindowed average Score: 0.05\n",
      "Episode 8000\tStep 200343\tScore: 0.10\tWindowed average Score: 0.05\n",
      "Episode 8500\tStep 214906\tScore: 0.10\tWindowed average Score: 0.06\n",
      "Episode 9000\tStep 228698\tScore: 0.00\tWindowed average Score: 0.05\n",
      "Episode 9500\tStep 241643\tScore: 0.10\tWindowed average Score: 0.05\n",
      "Episode 10000\tStep 255102\tScore: 0.00\tWindowed average Score: 0.04\n",
      "Episode 10500\tStep 267779\tScore: 0.10\tWindowed average Score: 0.05\n",
      "Episode 11000\tStep 280985\tScore: 0.00\tWindowed average Score: 0.05\n",
      "Episode 11500\tStep 294995\tScore: 0.00\tWindowed average Score: 0.06\n",
      "Episode 12000\tStep 308429\tScore: 0.10\tWindowed average Score: 0.05\n",
      "Episode 12500\tStep 321736\tScore: 0.10\tWindowed average Score: 0.04\n",
      "Episode 13000\tStep 335378\tScore: 0.10\tWindowed average Score: 0.06\n",
      "Episode 13500\tStep 347575\tScore: 0.00\tWindowed average Score: 0.07\n",
      "Episode 14000\tStep 359583\tScore: 0.10\tWindowed average Score: 0.05\n",
      "Episode 14500\tStep 371674\tScore: 0.00\tWindowed average Score: 0.05\n",
      "Episode 15000\tStep 383811\tScore: 0.00\tWindowed average Score: 0.05\n",
      "Episode 15500\tStep 398188\tScore: 0.09\tWindowed average Score: 0.09\n",
      "Episode 16000\tStep 416964\tScore: 0.00\tWindowed average Score: 0.08\n",
      "Episode 16500\tStep 435789\tScore: 0.10\tWindowed average Score: 0.10\n",
      "Episode 17000\tStep 456654\tScore: 0.10\tWindowed average Score: 0.12\n",
      "Episode 17500\tStep 476460\tScore: 0.20\tWindowed average Score: 0.12\n",
      "Episode 18000\tStep 497607\tScore: 0.10\tWindowed average Score: 0.13\n",
      "Episode 18500\tStep 518456\tScore: 0.20\tWindowed average Score: 0.12\n",
      "Episode 19000\tStep 541501\tScore: 0.30\tWindowed average Score: 0.15\n",
      "Episode 19500\tStep 571474\tScore: 0.20\tWindowed average Score: 0.16\n",
      "Episode 20000\tStep 611332\tScore: 0.30\tWindowed average Score: 0.19\n",
      "Episode 20500\tStep 658293\tScore: 0.10\tWindowed average Score: 0.28\n",
      "Episode 20938\tStep 715297\tScore: 2.60\tWindowed average Score: 0.51\n",
      "Reached average score of 0.51 between episode 20839 and episode 20938\n",
      "Episode 21000\tStep 731133\tScore: 2.60\tWindowed average Score: 0.60\n",
      "Episode 21500\tStep 908269\tScore: 2.20\tWindowed average Score: 0.95\n",
      "Episode 21761\tStep 1000321\tScore: 0.90\tWindowed average Score: 0.77CPU times: total: 5h 45min 26s\n",
      "Wall time: 16h 37min 41s\n"
     ]
    }
   ],
   "source": [
    "%%time\n",
    "scores = agent.train()\n",
    "save_scores(scores)"
   ]
  },
  {
   "cell_type": "markdown",
   "metadata": {},
   "source": [
    "🟢 The environment is solved.  \n",
    "```text\n",
    "Episode 20938\tStep 715297\tScore: 2.60\tWindowed average Score: 0.51\n",
    "Reached average score of 0.51 between episode 20839 and episode 20938\n",
    "```"
   ]
  },
  {
   "cell_type": "code",
   "execution_count": 16,
   "metadata": {},
   "outputs": [],
   "source": [
    "save_scores(scores)"
   ]
  },
  {
   "cell_type": "markdown",
   "metadata": {},
   "source": [
    "Since episodes can get terminated early, here we plot scores against the number of trianing steps instead of number of episodes."
   ]
  },
  {
   "cell_type": "code",
   "execution_count": null,
   "metadata": {},
   "outputs": [
    {
     "data": {
      "image/png": "[encoded data removed]",
      "text/plain": [
       "<Figure size 1000x600 with 1 Axes>"
      ]
     },
     "metadata": {},
     "output_type": "display_data"
    }
   ],
   "source": [
    "def plot_scores():\n",
    "    fig = plt.figure(figsize=(10, 6))\n",
    "    ax = fig.add_subplot(111)\n",
    "    \n",
    "    plt.plot(*zip(*scores))\n",
    "\n",
    "    score_window = collections.deque(maxlen=100)\n",
    "    windowed_average_scores = []\n",
    "    for step, score in scores:\n",
    "        score_window.append(score)\n",
    "        windowed_average_scores.append((step, numpy.mean(score_window)))\n",
    "\n",
    "    plt.plot(*zip(*windowed_average_scores))\n",
    "    plt.plot(\n",
    "        list(map(lambda pair: pair[0], scores)),\n",
    "        [0.5] * len(scores),\n",
    "        \":\"\n",
    "    )\n",
    "    plt.ylabel('Score')\n",
    "    plt.xlabel('Step #')\n",
    "    plt.show()\n",
    "\n",
    "plot_scores()"
   ]
  },
  {
   "cell_type": "markdown",
   "metadata": {},
   "source": [
    "Finally, we can see how the agent performs:"
   ]
  },
  {
   "cell_type": "code",
   "execution_count": null,
   "metadata": {},
   "outputs": [
    {
     "data": {
      "text/plain": [
       "0.8950000135228038"
      ]
     },
     "execution_count": 20,
     "metadata": {},
     "output_type": "execute_result"
    }
   ],
   "source": [
    "## trained 1e6 steps, test 1 episode, score 0.8950000135228038\n",
    "agent.run_episode()"
   ]
  },
  {
   "cell_type": "code",
   "execution_count": null,
   "metadata": {},
   "outputs": [
    {
     "name": "stdout",
     "output_type": "stream",
     "text": [
      "Episode 4\tStep 1001603\tScore: 2.60\tWindowed average Score: 0.85\n",
      "Reached average score of 0.85 between episode 1 and episode 4\n",
      "Episode 500\tStep 1172044\tScore: 0.10\tWindowed average Score: 1.16\n",
      "Episode 1000\tStep 1358847\tScore: 0.40\tWindowed average Score: 0.68\n",
      "Episode 1500\tStep 1501665\tScore: 1.40\tWindowed average Score: 0.81\n",
      "Episode 2000\tStep 1660344\tScore: 0.30\tWindowed average Score: 0.75\n",
      "Episode 2500\tStep 1818565\tScore: 2.60\tWindowed average Score: 1.22\n",
      "Episode 2557\tStep 1838719\tScore: 2.60\tWindowed average Score: 0.96"
     ]
    }
   ],
   "source": [
    "%%time\n",
    "## load saved model if neccessary\n",
    "# agent = MultiAgent(env)\n",
    "# agent.load(steps_offset=1e6)\n",
    "\n",
    "## train more steps if neccessary\n",
    "scores = agent.train(max_steps=int(1e6))\n",
    "save_scores(scores)"
   ]
  },
  {
   "cell_type": "code",
   "execution_count": null,
   "metadata": {},
   "outputs": [],
   "source": [
    "## trained 2e6 steps, test 1 episode, score\n",
    "agent.run_episode()"
   ]
  },
  {
   "cell_type": "code",
   "execution_count": null,
   "metadata": {},
   "outputs": [],
   "source": [
    "plot_scores(scores)\n",
    "# plot_scores()"
   ]
  },
  {
   "cell_type": "markdown",
   "metadata": {},
   "source": [
    "We can also load the \"best\" agent found during the training process:"
   ]
  },
  {
   "cell_type": "code",
   "execution_count": 22,
   "metadata": {},
   "outputs": [
    {
     "data": {
      "text/plain": [
       "2.600000038743019"
      ]
     },
     "execution_count": 22,
     "metadata": {},
     "output_type": "execute_result"
    }
   ],
   "source": [
    "agent.load()\n",
    "agent.run_episode()"
   ]
  },
  {
   "cell_type": "code",
   "execution_count": null,
   "metadata": {},
   "outputs": [],
   "source": [
    "wandb.finish()"
   ]
  },
  {
   "cell_type": "markdown",
   "metadata": {},
   "source": [
    "## Next steps\n",
    "\n",
    "This environment stabalizes easily no only because the two agents are cooperating rather than competing with each other, but their local observations are also arguably sufficient for them to make decisions without caring much about what the other agent is doing. It would be interesting to try on the original Unity Tennis environment where the two agents are adversaries.\n",
    "\n",
    "A major challenge of this environment is the sparsity of the rewards, which can easily cause training progress to stagnate, especially in the early training phase. It would be interesting to experiment with reward shaping techniques to alleviate this issue."
   ]
  },
  {
   "cell_type": "markdown",
   "metadata": {},
   "source": [
    "## References\n",
    "\n",
    "- Lowe, R., Wu, Y., Tamar, A., Harb, J., Abbeel, P., & Mordatch, I. (2017). Multi-Agent Actor-Critic for Mixed Cooperative-Competitive Environments. https://arxiv.org/abs/1706.02275\n",
    "- Lillicrap, T. P. et al. (2015) ‘Continuous control with deep reinforcement learning’. Available at: http://arxiv.org/abs/1509.02971\n",
    "- Fujimoto, S., van Hoof, H. and Meger, D. (2018) ‘Addressing Function Approximation Error in Actor-Critic Methods’. Available at: https://arxiv.org/abs/1802.09477\n",
    "- Ackermann, J., Gabler, V., Osa, T., & Sugiyama, M. (2019). Reducing Overestimation Bias in Multi-Agent Domains Using Double Centralized Critics. https://arxiv.org/abs/1910.01465\n",
    "- Schaul, T. et al. (2015) ‘Prioritized Experience Replay’. Available at: http://arxiv.org/abs/1511.05952\n",
    "- Andrychowicz, M., Raichuk, A., Stańczyk, P., Orsini, M., Girgin, S., Marinier, R., Hussenot, L., Geist, M., Pietquin, O., Michalski, M., Gelly, S., & Bachem, O. (2020). What Matters In On-Policy Reinforcement Learning? A Large-Scale Empirical Study. https://arxiv.org/abs/2006.05990"
   ]
  }
 ],
 "metadata": {
  "kernelspec": {
   "display_name": "drlnd_py310",
   "language": "python",
   "name": "python3"
  },
  "language_info": {
   "codemirror_mode": {
    "name": "ipython",
    "version": 3
   },
   "file_extension": ".py",
   "mimetype": "text/x-python",
   "name": "python",
   "nbconvert_exporter": "python",
   "pygments_lexer": "ipython3",
   "version": "3.10.15"
  }
 },
 "nbformat": 4,
 "nbformat_minor": 2
}
